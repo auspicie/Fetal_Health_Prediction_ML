{
 "cells": [
  {
   "cell_type": "markdown",
   "id": "8371047d-d753-4679-98b9-ab3847ba27cc",
   "metadata": {},
   "source": [
    "# Import Libraries all features"
   ]
  },
  {
   "cell_type": "code",
   "execution_count": null,
   "id": "71744ca2-4d80-486e-bca3-c082c28da1a2",
   "metadata": {},
   "outputs": [],
   "source": [
    "import pandas as pd\n",
    "import numpy as np\n",
    "import matplotlib.pyplot as plt\n",
    "import seaborn as sns\n",
    "from sklearn.model_selection import train_test_split\n",
    "from sklearn.preprocessing import StandardScaler\n",
    "from sklearn.linear_model import LogisticRegression\n",
    "from sklearn.ensemble import RandomForestClassifier, GradientBoostingClassifier\n",
    "from sklearn.tree import DecisionTreeClassifier\n",
    "from sklearn.svm import SVC\n",
    "from sklearn.naive_bayes import GaussianNB\n",
    "from sklearn.neighbors import KNeighborsClassifier\n",
    "from sklearn.metrics import classification_report, confusion_matrix, accuracy_score, roc_auc_score, roc_curve"
   ]
  },
  {
   "cell_type": "markdown",
   "id": "c5f9b61c-4fc3-4247-9efc-27d2a388c44b",
   "metadata": {},
   "source": [
    "# Importing the Dataset"
   ]
  },
  {
   "cell_type": "code",
   "execution_count": null,
   "id": "b8e59607-b5ec-400a-87a7-561a777b19af",
   "metadata": {},
   "outputs": [],
   "source": [
    "df = pd.read_excel(\"fetal_health.xlsx\") "
   ]
  },
  {
   "cell_type": "markdown",
   "id": "40759fb1-5a14-42d0-a72f-0ba15ec3f7bb",
   "metadata": {},
   "source": [
    "# EDA and Visualization"
   ]
  },
  {
   "cell_type": "code",
   "execution_count": null,
   "id": "b1757ece-58b9-4335-8e20-b49acb847042",
   "metadata": {},
   "outputs": [],
   "source": [
    "df.head()"
   ]
  },
  {
   "cell_type": "code",
   "execution_count": null,
   "id": "0a13b65e-3ead-400e-8142-12fe3363b59b",
   "metadata": {},
   "outputs": [],
   "source": [
    "#Checking the number of rows and columns in the data set\n",
    "df.shape"
   ]
  },
  {
   "cell_type": "code",
   "execution_count": null,
   "id": "dde42532-4386-4c09-89cd-3d3f26bbaf99",
   "metadata": {},
   "outputs": [],
   "source": [
    "# Checking the type of data\n",
    "df.info()"
   ]
  },
  {
   "cell_type": "code",
   "execution_count": null,
   "id": "67d0c0fa-7f50-4318-ab92-efba0a48b03d",
   "metadata": {},
   "outputs": [],
   "source": [
    "# Check for duplicates\n",
    "duplicate_columns = df.T[df.T.duplicated()].T\n",
    "\n",
    "# List duplicate column names\n",
    "dupes = duplicate_columns.columns.tolist()\n",
    "\n",
    "if dupes:\n",
    "    print(\"Duplicate feature columns found:\")\n",
    "    for col in dupes:\n",
    "        print(f\"- {col}\")\n",
    "else:\n",
    "    print(\"✅ No duplicate feature columns found.\")\n"
   ]
  },
  {
   "cell_type": "code",
   "execution_count": null,
   "id": "2a704d26-83f2-4982-be24-b050f4c55048",
   "metadata": {},
   "outputs": [],
   "source": [
    "# Check for missing values\n",
    "print(df.isnull().sum())"
   ]
  },
  {
   "cell_type": "code",
   "execution_count": null,
   "id": "080c3d0d-dd8e-46c4-8c62-fa436c9b31eb",
   "metadata": {},
   "outputs": [],
   "source": [
    "# The Summary Statistics of the Dataset\n",
    "df.describe()"
   ]
  },
  {
   "cell_type": "code",
   "execution_count": null,
   "id": "d7ccaa88-bf6e-4421-a9a8-15b90690695b",
   "metadata": {},
   "outputs": [],
   "source": [
    "# Checking the array of distinct values in the Class\n",
    "df.fetal_health.unique()\n"
   ]
  },
  {
   "cell_type": "code",
   "execution_count": null,
   "id": "d6d37d00-2f69-41ac-b043-0769491a9e6e",
   "metadata": {},
   "outputs": [],
   "source": [
    "df.fetal_health.value_counts()\n"
   ]
  },
  {
   "cell_type": "code",
   "execution_count": null,
   "id": "2dadfb12-f51a-4944-8a96-ea16adbb51f8",
   "metadata": {},
   "outputs": [],
   "source": [
    "# Distribution of Target Variable\n",
    "custom_palette = ['#1f77b4', '#ff7f0e', 'green']  # blue and orange\n",
    "ax = sns.countplot(x='fetal_health', data=df, palette=custom_palette)\n",
    "plt.xlabel(\"fetal_health\")\n",
    "plt.ylabel(\"Count\")\n",
    "plt.title(\"Fetal Health Class Distribution\")\n",
    "# Add custom legend\n",
    "labels = ['Normal', 'Suspect', 'Pathological']\n",
    "handles = [plt.Rectangle((0, 0), 1, 1, color=patch.get_facecolor()) for patch in ax.patches[:3]]\n",
    "plt.legend(handles, labels)\n",
    "plt.show()\n"
   ]
  },
  {
   "cell_type": "code",
   "execution_count": null,
   "id": "6729471e-0ab9-41a0-a1e9-ee67acfeab0d",
   "metadata": {},
   "outputs": [],
   "source": [
    "#change to histogram\n",
    "features = df.drop(columns=['fetal_health']).select_dtypes(include=['int64', 'float64']).columns\n",
    "\n",
    "# Plot\n",
    "plt.figure(figsize=(16, 12))\n",
    "for i, feature in enumerate(features):\n",
    "    plt.subplot((len(features) + 2) // 3, 3, i + 1)\n",
    "    sns.histplot(data=df, x=feature, hue='fetal_health', kde=True, element='step', stat='density', common_norm=False)\n",
    "    plt.title(f'{feature} Distribution by fetal_health')\n",
    "    plt.xlabel(feature)\n",
    "    plt.ylabel('Density')\n",
    "\n",
    "plt.tight_layout()\n",
    "plt.show()\n"
   ]
  },
  {
   "cell_type": "code",
   "execution_count": null,
   "id": "0f352886-40c4-47bd-8b8b-36e72b68ff82",
   "metadata": {},
   "outputs": [],
   "source": [
    "# Correlation Matrix\n",
    "plt.figure(figsize=(18, 16))  # wider and taller\n",
    "sns.heatmap(df.corr(), annot=True, fmt=\".2f\", cmap='coolwarm')\n",
    "plt.title(\"Correlation Matrix\")\n",
    "plt.show()"
   ]
  },
  {
   "cell_type": "code",
   "execution_count": null,
   "id": "b8d1d5ef-8069-42a8-ac8e-e99aa2ef212e",
   "metadata": {},
   "outputs": [],
   "source": [
    "# Drop Highly Correlated Features\n",
    "corr_matrix = df.corr().abs()\n",
    "upper = corr_matrix.where(np.triu(np.ones(corr_matrix.shape), k=1).astype(bool))\n",
    "to_drop = [column for column in upper.columns if any(upper[column] > 0.9)]\n",
    "\n",
    "# Drop correlated features\n",
    "df = df.drop(columns=to_drop)\n",
    "df"
   ]
  },
  {
   "cell_type": "markdown",
   "id": "711ac225-59db-4992-8026-ee1ab404be31",
   "metadata": {},
   "source": [
    "# Data Preprocessing\n"
   ]
  },
  {
   "cell_type": "code",
   "execution_count": null,
   "id": "548ab592-a04c-4c28-83e4-ef2ae5fdb191",
   "metadata": {},
   "outputs": [],
   "source": [
    "X = df.drop('fetal_health', axis=1)\n",
    "y = df['fetal_health']\n",
    "print(\"Shape of X (features):\", X.shape)\n",
    "print(\"Shape of y (target):\", y.shape)"
   ]
  },
  {
   "cell_type": "markdown",
   "id": "2f274921-d6c7-4c13-938d-c899f6202018",
   "metadata": {},
   "source": [
    "# Train-Test Split"
   ]
  },
  {
   "cell_type": "code",
   "execution_count": null,
   "id": "d6bf6d55-1d59-4cc3-b678-abb03837c1aa",
   "metadata": {},
   "outputs": [],
   "source": [
    "X_train, X_test, y_train, y_test = train_test_split(X, y, test_size=0.2, stratify=y, random_state=42) #stratify because of imbalance class\n",
    "print(\"Matrices of X_train:\", X_train.shape)\n",
    "print(\"Shape of X_test:\", X_test.shape)\n",
    "print(\"Matrices of X_train:\", X_train.shape)\n",
    "print(\"Shape of X_test:\", X_test.shape)"
   ]
  },
  {
   "cell_type": "code",
   "execution_count": null,
   "id": "d705b9a3-96b1-4fb7-938b-d1ac9d5c3931",
   "metadata": {},
   "outputs": [],
   "source": [
    "# Feature scaling\n",
    "scaler = StandardScaler()\n",
    "X_train = scaler.fit_transform(X_train)\n",
    "X_test = scaler.transform(X_test)"
   ]
  },
  {
   "cell_type": "code",
   "execution_count": null,
   "id": "e92dc0dd-ad5f-4762-b9bf-d3d666ba8553",
   "metadata": {},
   "outputs": [],
   "source": [
    "X_train"
   ]
  },
  {
   "cell_type": "code",
   "execution_count": null,
   "id": "57e63448-6b3d-4723-9080-4cc898b56af3",
   "metadata": {},
   "outputs": [],
   "source": [
    "y_train"
   ]
  },
  {
   "cell_type": "markdown",
   "id": "d51f0309-10bf-4e96-91a6-7462fc37973c",
   "metadata": {},
   "source": [
    "# Baseline Model"
   ]
  },
  {
   "cell_type": "code",
   "execution_count": null,
   "id": "adbcfecc-b5b3-4cab-8b8c-4238cd1c2071",
   "metadata": {},
   "outputs": [],
   "source": [
    "from sklearn.dummy import DummyClassifier\n",
    "# Most Frequent\n",
    "baseline_mf = DummyClassifier(strategy=\"most_frequent\")\n",
    "baseline_mf.fit(X_train, y_train)\n",
    "y_pred_mf = baseline_mf.predict(X_test)\n",
    "acc_mf = accuracy_score(y_test, y_pred_mf)\n",
    "print(\"Baseline Model - Most Frequent\")\n",
    "print(\"Accuracy:\", acc_mf)\n",
    "print(\"Classification Report:\\n\", classification_report(y_test, y_pred_mf))"
   ]
  },
  {
   "cell_type": "code",
   "execution_count": null,
   "id": "9118b630-3660-4455-858f-8f2decbc11ed",
   "metadata": {},
   "outputs": [],
   "source": [
    "# Stratified\n",
    "baseline_strat = DummyClassifier(strategy=\"stratified\", random_state=42)\n",
    "baseline_strat.fit(X_train, y_train)\n",
    "y_pred_strat = baseline_strat.predict(X_test)\n",
    "acc_strat = accuracy_score(y_test, y_pred_strat)\n",
    "print(\"Baseline Model - Stratified\")\n",
    "print(\"Accuracy:\", acc_strat)\n",
    "print(\"Classification Report:\\n\", classification_report(y_test, y_pred_strat))"
   ]
  },
  {
   "cell_type": "code",
   "execution_count": null,
   "id": "14b1d1b3-98c7-44e7-9296-fb183c4f80e7",
   "metadata": {},
   "outputs": [],
   "source": [
    "# Uniform\n",
    "baseline_uniform = DummyClassifier(strategy=\"uniform\", random_state=42)\n",
    "baseline_uniform.fit(X_train, y_train)\n",
    "y_pred_uniform = baseline_uniform.predict(X_test)\n",
    "acc_uniform = accuracy_score(y_test, y_pred_uniform)\n",
    "print(\"Baseline Model - Uniform\")\n",
    "print(\"Accuracy:\", acc_uniform)\n",
    "print(\"Classification Report:\\n\", classification_report(y_test, y_pred_uniform))"
   ]
  },
  {
   "cell_type": "markdown",
   "id": "85b58f3b-6dc6-4119-bb2f-3cbb4b6c9d1e",
   "metadata": {},
   "source": [
    "# Build and Train Multiple Models"
   ]
  },
  {
   "cell_type": "code",
   "execution_count": null,
   "id": "273d6d14-a93d-4049-8425-446c32b2bc98",
   "metadata": {},
   "outputs": [],
   "source": [
    "models = {\n",
    "    \"Logistic Regression\": LogisticRegression(class_weight='balanced', max_iter=1000),\n",
    "    \"Random Forest\": RandomForestClassifier(class_weight='balanced'),\n",
    "    \"Decision Tree\": DecisionTreeClassifier(class_weight='balanced'),\n",
    "    \"K-Nearest Neighbors\": KNeighborsClassifier(),  # no class_weight support\n",
    "    \"Support Vector Machine\": SVC(probability=True, class_weight='balanced'),\n",
    "    \"Naive Bayes\": GaussianNB(),  # handles imbalance probabilistically\n",
    "    \"Gradient Boosting\": GradientBoostingClassifier()  # no native class_weight support\n",
    "}\n",
    "\n",
    "results = []\n",
    "\n",
    "# Check if the task is binary or multi-class\n",
    "num_classes = len(np.unique(y_test))\n",
    "is_multiclass = num_classes > 2\n",
    "\n",
    "for name, model in models.items():\n",
    "    model.fit(X_train, y_train)\n",
    "    y_pred = model.predict(X_test)\n",
    "    \n",
    "    if hasattr(model, \"predict_proba\"):\n",
    "        y_proba = model.predict_proba(X_test)\n",
    "    else:\n",
    "        # fallback for models like SVC without probability=True\n",
    "        y_proba = None\n",
    "\n",
    "    acc = accuracy_score(y_test, y_pred)\n",
    "    \n",
    "    # ROC AUC calculation\n",
    "    if y_proba is not None:\n",
    "        try:\n",
    "            if is_multiclass:\n",
    "                auc = roc_auc_score(y_test, y_proba, multi_class='ovr')\n",
    "            else:\n",
    "                auc = roc_auc_score(y_test, y_proba[:, 1])\n",
    "        except Exception as e:\n",
    "            auc = None\n",
    "            print(f\"⚠️ ROC AUC calculation failed for {name}: {e}\")\n",
    "    else:\n",
    "        auc = None\n",
    "\n",
    "    print(f\"\\n{name}\")\n",
    "    print(\"Confusion Matrix:\\n\", confusion_matrix(y_test, y_pred))\n",
    "    print(\"Classification Report:\\n\", classification_report(y_test, y_pred))\n",
    "    print(\"Accuracy:\", acc)\n",
    "    if auc is not None:\n",
    "        print(\"ROC AUC Score:\", auc)\n",
    "    else:\n",
    "        print(\"ROC AUC Score: Not available\")\n",
    "    \n",
    "    results.append((name, acc, auc))\n",
    "\n",
    "# Add baseline results if available\n",
    "results.insert(0, (\"Baseline (Uniform)\", acc_uniform, None))\n",
    "results.insert(0, (\"Baseline (Stratified)\", acc_strat, None))\n",
    "results.insert(0, (\"Baseline (Most Frequent)\", acc_mf, None))\n"
   ]
  },
  {
   "cell_type": "markdown",
   "id": "d5b89ba6-01b8-4c3d-8853-fcf19fcfb4ee",
   "metadata": {},
   "source": [
    "# Model Comparison Table"
   ]
  },
  {
   "cell_type": "code",
   "execution_count": null,
   "id": "8c757648-0639-4d42-9d4b-0106ee0eeadc",
   "metadata": {},
   "outputs": [],
   "source": [
    "results_df = pd.DataFrame(results, columns=[\"Model\", \"Accuracy\", \"ROC AUC\"])\n",
    "print(\"\\nModel Comparison:\")\n",
    "print(results_df.sort_values(by=\"ROC AUC\", ascending=False))\n"
   ]
  },
  {
   "cell_type": "code",
   "execution_count": null,
   "id": "039cce31-794c-4d6e-be27-8562f20dcacb",
   "metadata": {},
   "outputs": [],
   "source": [
    "from sklearn.metrics import RocCurveDisplay\n",
    "from sklearn.preprocessing import label_binarize\n",
    "\n",
    "y_test_binarized = label_binarize(y_test, classes=[1, 2, 3])\n",
    "\n",
    "plt.figure(figsize=(10, 8))\n",
    "for name, model in models.items():\n",
    "    if not hasattr(model, \"predict_proba\"):\n",
    "        continue\n",
    "\n",
    "    y_score = model.predict_proba(X_test)\n",
    "    try:\n",
    "        auc_score = roc_auc_score(y_test_binarized, y_score, average='macro', multi_class='ovr')\n",
    "        fpr, tpr, _ = roc_curve(y_test_binarized.ravel(), y_score.ravel())\n",
    "        plt.plot(fpr, tpr, label=f\"{name} (Macro AUC = {auc_score:.2f})\")\n",
    "    except Exception as e:\n",
    "        print(f\"{name}: {e}\")\n",
    "\n",
    "plt.plot([0, 1], [0, 1], linestyle='--', color='gray')\n",
    "plt.title(\"ROC Curve (Macro-Average for Multi-class Models)\")\n",
    "plt.xlabel(\"False Positive Rate\")\n",
    "plt.ylabel(\"True Positive Rate\")\n",
    "plt.legend()\n",
    "plt.grid(True)\n",
    "plt.show()\n"
   ]
  },
  {
   "cell_type": "markdown",
   "id": "a55ce567-bf63-4f19-8b14-52604defc427",
   "metadata": {},
   "source": [
    "# Feature Importance"
   ]
  },
  {
   "cell_type": "code",
   "execution_count": null,
   "id": "49c444d8-6b21-41bb-a4ae-270459904aa0",
   "metadata": {},
   "outputs": [],
   "source": [
    "rf_model = models[\"Random Forest\"]\n",
    "importances = rf_model.feature_importances_\n",
    "features = df.drop(\"fetal_health\", axis=1).columns\n",
    "plt.figure(figsize=(10, 6))\n",
    "sns.barplot(x=importances, y=features)\n",
    "plt.title(\"Feature Importance (Random Forest)\")\n",
    "plt.show()"
   ]
  },
  {
   "cell_type": "markdown",
   "id": "4039a092-1719-4539-9799-e1f33cc08e61",
   "metadata": {},
   "source": [
    "# Cross validation"
   ]
  },
  {
   "cell_type": "code",
   "execution_count": null,
   "id": "cd1b9b14-03b6-4d1b-90be-d43f6b84722a",
   "metadata": {},
   "outputs": [],
   "source": [
    "from sklearn.model_selection import cross_val_score, StratifiedKFold\n",
    "cv = StratifiedKFold(n_splits=5, shuffle=True, random_state=42)\n",
    "print(\"Cross-Validation Results:\")\n",
    "for name, model in models.items():\n",
    "    scores = cross_val_score(model, X_train, y_train, cv=cv, scoring='accuracy')\n",
    "    print(f\"{name}: {scores.mean():.4f} ± {scores.std():.4f}\")"
   ]
  },
  {
   "cell_type": "code",
   "execution_count": null,
   "id": "17e3a35c-79dc-428e-89a1-82c5a6ee1248",
   "metadata": {},
   "outputs": [],
   "source": [
    "# Display the cross validation result in a tabular format\n",
    "results = []\n",
    "for name, model in models.items():\n",
    "    scores = cross_val_score(model, X_train, y_train, cv=cv, scoring='accuracy')\n",
    "    results.append({\n",
    "        'Model': name,\n",
    "        'Mean Accuracy': scores.mean(),\n",
    "        'Std Dev': scores.std()\n",
    "    })\n",
    "\n",
    "# Create a DataFrame for display\n",
    "results_df = pd.DataFrame(results).sort_values(by='Mean Accuracy', ascending= False)\n",
    "\n",
    "# Format and display\n",
    "results_df = results_df.round(4)\n",
    "print(\"Cross-Validation Results:\")\n",
    "display(results_df)"
   ]
  },
  {
   "cell_type": "markdown",
   "id": "8cb61621-6052-47cd-8b54-7e02c19f42bc",
   "metadata": {},
   "source": [
    "# Hyperparameter Tuning"
   ]
  },
  {
   "cell_type": "code",
   "execution_count": null,
   "id": "c96665b3-b227-4d0f-b24c-b86e73d174c0",
   "metadata": {},
   "outputs": [],
   "source": [
    "from sklearn.model_selection import GridSearchCV\n",
    "param_grid = {\n",
    "    'n_estimators': [100, 200,300,400],\n",
    "    'max_depth': [None, 10, 20, 40],\n",
    "    'min_samples_split': [2, 5, 10],\n",
    "    'min_samples_leaf': [1,2,4]\n",
    "    \n",
    "}\n",
    "grid_search = GridSearchCV(RandomForestClassifier(random_state=42), param_grid, cv=cv, scoring='accuracy')\n",
    "grid_search.fit(X_train, y_train)\n",
    "\n",
    "print(\"Best Parameters (Random Forest):\", grid_search.best_params_)\n",
    "print(\"Best Cross-Validated Accuracy:\", grid_search.best_score_)"
   ]
  },
  {
   "cell_type": "code",
   "execution_count": null,
   "id": "f65ff201-a165-4656-abd6-d3b09d9f6c13",
   "metadata": {},
   "outputs": [],
   "source": [
    "# Evaluate best RF on test set\n",
    "best_rf = grid_search.best_estimator_\n",
    "y_rf_pred = best_rf.predict(X_test)\n",
    "print(\"Test Accuracy (Best RF):\", accuracy_score(y_test, y_rf_pred))\n",
    "print(\"Classification Report (Best RF):\\n\", classification_report(y_test, y_rf_pred))"
   ]
  },
  {
   "cell_type": "code",
   "execution_count": null,
   "id": "f9cc69e6-1eb0-4759-82a0-a1832ced2609",
   "metadata": {},
   "outputs": [],
   "source": [
    "from sklearn.metrics import ConfusionMatrixDisplay\n",
    "ConfusionMatrixDisplay.from_estimator(best_rf, X_test, y_test, cmap='Blues')\n",
    "plt.title(\"Confusion Matrix - Best RF Model\")\n",
    "plt.show()"
   ]
  },
  {
   "cell_type": "markdown",
   "id": "e0219642-f562-4ad6-a1e4-9ad47eeebfc4",
   "metadata": {},
   "source": [
    "# Save the Best Model"
   ]
  },
  {
   "cell_type": "code",
   "execution_count": null,
   "id": "9439e294-a420-4548-97ac-d8f3ac83feb8",
   "metadata": {},
   "outputs": [],
   "source": [
    "import pickle\n",
    "feature_list = X.columns.tolist()\n",
    "# Save the best model\n",
    "best_model = models[\"Random Forest\"] \n",
    "with open('Fetal_Health_Classification_model.pkl', 'wb') as file:\n",
    "    pickle.dump(best_model, file)\n",
    "\n",
    "with open('feature_list.pkl', 'wb') as f:\n",
    "    pickle.dump(feature_list, f)\n",
    "\n",
    "# Save the scaler\n",
    "with open('scaler.pkl', 'wb') as scaler_file:\n",
    "    pickle.dump(scaler, scaler_file)\n"
   ]
  },
  {
   "cell_type": "code",
   "execution_count": null,
   "id": "275b9541-7d7c-4c87-b135-1206209fe800",
   "metadata": {},
   "outputs": [],
   "source": []
  }
 ],
 "metadata": {
  "kernelspec": {
   "display_name": "Python [conda env:base] *",
   "language": "python",
   "name": "conda-base-py"
  },
  "language_info": {
   "codemirror_mode": {
    "name": "ipython",
    "version": 3
   },
   "file_extension": ".py",
   "mimetype": "text/x-python",
   "name": "python",
   "nbconvert_exporter": "python",
   "pygments_lexer": "ipython3",
   "version": "3.12.9"
  }
 },
 "nbformat": 4,
 "nbformat_minor": 5
}
